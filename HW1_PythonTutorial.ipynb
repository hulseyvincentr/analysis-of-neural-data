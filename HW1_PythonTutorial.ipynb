{
 "cells": [
  {
   "cell_type": "markdown",
   "metadata": {},
   "source": [
    "This notebook contains a short introduction to Python, with an emphasis on Numpy for numerical computing and Matplotlib for making plots.\n",
    "\n",
    "-- JM Murray, https://murraylab.uoregon.edu\n",
    "\n",
    "\n",
    "# Topics\n",
    "\n",
    "- All variables are objects: int, float, str\n",
    "- Data Structures: lists and dictionaries\n",
    "- Indexing\n",
    "- For loops\n",
    "- Boolean variables and conditional statements\n",
    "- Functions\n",
    "- Numpy arrays\n",
    "    - Creating new arrays\n",
    "    - Indexing and slicing arrays\n",
    "    - Arithmetic with arrays\n",
    "    - Masking and fancy indexing\n",
    "    - Useful functions for arrays\n",
    "    - Getting help\n",
    "\n",
    "- Plotting with Matplotlib\n",
    "    - Plotting lines\n",
    "    - Scatter plots\n",
    "    - Histograms\n",
    "    - Visualizing matrices\n",
    "    - Subplots\n",
    "    - Error bars"
   ]
  },
  {
   "cell_type": "markdown",
   "metadata": {},
   "source": [
    "# 0. Jupyter notebooks"
   ]
  },
  {
   "cell_type": "markdown",
   "metadata": {},
   "source": [
    "What you are looking at is a Jupyter notebook, which is one way of writing and running Python code (the \"py\" in Jupyter is for Python). While there are different ways of writing and running Python code (e.g. saving the code in a .py file and running it from the command line terminal), notebooks such as this one are an easy way to get started and allow for a more interactive coding experience. "
   ]
  },
  {
   "cell_type": "markdown",
   "metadata": {},
   "source": [
    "A notebook consists of cells, where each cell contains either Python code (if \"Code\" is selected in the dropdown menu above) or text (if \"Markdown\" is selected). A new cell can be added using a button near the top of the screen. Here is a simple cell with some code in it:"
   ]
  },
  {
   "cell_type": "code",
   "execution_count": 156,
   "metadata": {},
   "outputs": [
    {
     "data": {
      "text/plain": [
       "4"
      ]
     },
     "execution_count": 156,
     "metadata": {},
     "output_type": "execute_result"
    }
   ],
   "source": [
    "2+2"
   ]
  },
  {
   "cell_type": "markdown",
   "metadata": {},
   "source": [
    "The above cell can be run by clicking on it and simultaneously pressing Shift+Enter. Try making a change in the cell above and running it to see whether the expected result appears."
   ]
  },
  {
   "cell_type": "markdown",
   "metadata": {},
   "source": [
    "# 1. All variables are objects\n",
    "\n",
    "There are many different types of objects in Python."
   ]
  },
  {
   "cell_type": "markdown",
   "metadata": {},
   "source": [
    "Python allows us to define variables and manipulate and combine them. A number can be an **integer** (i.e. a whole number such as 7) or a **float** (i.e. a number that is not necessarily a whole number, such as 7.1). **Strings** are sequences of characters inside single or double quotation marks. The `print` function allows us to display things."
   ]
  },
  {
   "cell_type": "code",
   "execution_count": 157,
   "metadata": {},
   "outputs": [
    {
     "name": "stdout",
     "output_type": "stream",
     "text": [
      "<class 'int'>\n",
      "<class 'float'>\n",
      "<class 'str'>\n"
     ]
    }
   ],
   "source": [
    "x = 1\n",
    "print(type(x))\n",
    "\n",
    "y = 2.0\n",
    "print(type(y))\n",
    "\n",
    "z = 'Hello world!'\n",
    "print(type(z))"
   ]
  },
  {
   "cell_type": "markdown",
   "metadata": {},
   "source": [
    "Note that variable names may combine letters and numbers (e.g. `x1` or `x_1`), but should not begin with a number or contain any special characters other than underscores (so don't use `1x` or `x%!` as a variable name).\n",
    "\n",
    "We can also convert from one type to another (when such conversion makes sense):"
   ]
  },
  {
   "cell_type": "code",
   "execution_count": 158,
   "metadata": {},
   "outputs": [
    {
     "name": "stdout",
     "output_type": "stream",
     "text": [
      "1.0\n"
     ]
    }
   ],
   "source": [
    "print(float(x))"
   ]
  },
  {
   "cell_type": "markdown",
   "metadata": {},
   "source": [
    "Basic arithmetic operations work as you would expect. By the way, we can also print multiple things in the same line by giving the `print` function multiple arguments separated by commas."
   ]
  },
  {
   "cell_type": "code",
   "execution_count": 159,
   "metadata": {},
   "outputs": [
    {
     "name": "stdout",
     "output_type": "stream",
     "text": [
      "Addition:  3.0\n",
      "Multiplication:  6.0\n",
      "Exponentiation:  8.0\n"
     ]
    }
   ],
   "source": [
    "print('Addition: ', x + y)\n",
    "print('Multiplication: ', 3*y)\n",
    "print('Exponentiation: ', y**3)"
   ]
  },
  {
   "cell_type": "markdown",
   "metadata": {},
   "source": [
    "Variables can be combined to create new variables."
   ]
  },
  {
   "cell_type": "code",
   "execution_count": 160,
   "metadata": {},
   "outputs": [
    {
     "name": "stdout",
     "output_type": "stream",
     "text": [
      "3.0\n"
     ]
    }
   ],
   "source": [
    "z = x + y\n",
    "print(z)"
   ]
  },
  {
   "cell_type": "markdown",
   "metadata": {},
   "source": [
    "We can also reassign a variable."
   ]
  },
  {
   "cell_type": "code",
   "execution_count": 161,
   "metadata": {},
   "outputs": [
    {
     "name": "stdout",
     "output_type": "stream",
     "text": [
      "8.0\n"
     ]
    }
   ],
   "source": [
    "y = 4.0*y  # Comment: Remember that the equals sign in Python is an assignment, not a mathematical equality!\n",
    "print(y)"
   ]
  },
  {
   "cell_type": "markdown",
   "metadata": {},
   "source": [
    "Remember that it's often useful to add comments such as the one above to your code using # so that you'll know what you were thinking when you go back to read it later!"
   ]
  },
  {
   "cell_type": "markdown",
   "metadata": {},
   "source": [
    "## Exercises"
   ]
  },
  {
   "cell_type": "markdown",
   "metadata": {},
   "source": [
    "1.1. In the box below, add a float number to an integer. What type is the resulting variable?"
   ]
  },
  {
   "cell_type": "code",
   "execution_count": 162,
   "metadata": {},
   "outputs": [
    {
     "name": "stdout",
     "output_type": "stream",
     "text": [
      "The sum of a float and an integer is  <class 'float'>\n"
     ]
    }
   ],
   "source": [
    "exFloat = 4.0\n",
    "exInt = 5\n",
    "sumFI = exFloat+exInt\n",
    "print('The sum of a float and an integer is ', type(sumFI))\n",
    "#The resulting variable is a float :)"
   ]
  },
  {
   "cell_type": "markdown",
   "metadata": {},
   "source": [
    "1.2. In the first box below, add two strings together and print the result. Also multiply a string by an integer and print the result. In the second box below, write a sentence or two (make sure to select \"Markdown\" from the drop-down menu!) about your inferred conclusions about how addition and multiplication work when applied to strings."
   ]
  },
  {
   "cell_type": "code",
   "execution_count": 163,
   "metadata": {},
   "outputs": [
    {
     "name": "stdout",
     "output_type": "stream",
     "text": [
      "string1+string2 =  hello world\n",
      "3*string1 =  hello hello hello \n"
     ]
    }
   ],
   "source": [
    "string1 = 'hello '\n",
    "string2 = 'world'\n",
    "sumStrs = string1+string2\n",
    "print('string1+string2 = ',sumStrs)\n",
    "\n",
    "productString = 3*string1\n",
    "print('3*string1 = ',productString)"
   ]
  },
  {
   "attachments": {},
   "cell_type": "markdown",
   "metadata": {},
   "source": [
    "From the previous box, I can see that addition will concatonate strings. Adding will combines separate strings into one string. \n",
    "Multiplying strings repeats will the string by the (integer) number you've multiplied it by (e.g. multiplying by three means Python will write the string 3 times)."
   ]
  },
  {
   "cell_type": "markdown",
   "metadata": {},
   "source": [
    "# 2. Data structures\n",
    "\n",
    "Numbers and other objects can be grouped into different types of data structures. Two that we will use are lists and dictionaries."
   ]
  },
  {
   "cell_type": "markdown",
   "metadata": {},
   "source": [
    "## Lists\n",
    "\n",
    "A **list** is just what it sounds like. Lists are enclosed by square brackets. It can be a list of numbers such as strings (which can be enclosed in either single or double quotes in Python), as well as things that aren't numbers, or even lists of lists."
   ]
  },
  {
   "cell_type": "code",
   "execution_count": 164,
   "metadata": {},
   "outputs": [
    {
     "name": "stdout",
     "output_type": "stream",
     "text": [
      "<class 'list'>\n",
      "[1, 3, 5]\n"
     ]
    }
   ],
   "source": [
    "list1 = [1,3,5]\n",
    "print(type(list1))\n",
    "print(list1)"
   ]
  },
  {
   "cell_type": "code",
   "execution_count": 165,
   "metadata": {},
   "outputs": [
    {
     "name": "stdout",
     "output_type": "stream",
     "text": [
      "['Bacon', 'Eggs', 42]\n",
      "[[1, 3, 5], ['Bacon', 'Eggs', 42]]\n",
      "3\n"
     ]
    }
   ],
   "source": [
    "list2 = ['Bacon', 'Eggs', 42]\n",
    "print(list2)\n",
    "\n",
    "list3 = [list1, list2]\n",
    "print(list3)\n",
    "\n",
    "# Find out how long a list is:\n",
    "print(len(list2))"
   ]
  },
  {
   "cell_type": "markdown",
   "metadata": {},
   "source": [
    "A list might look like a mathematical vector, but it's not (we'll learn about arrays, which do function as vectors and matrices, later on). For instance, if we add two lists, we get a longer list rather than adding up the individual elements."
   ]
  },
  {
   "cell_type": "code",
   "execution_count": 166,
   "metadata": {},
   "outputs": [
    {
     "name": "stdout",
     "output_type": "stream",
     "text": [
      "[1, 3, 5, 'Bacon', 'Eggs', 42]\n"
     ]
    }
   ],
   "source": [
    "print(list1 + list2)"
   ]
  },
  {
   "cell_type": "markdown",
   "metadata": {},
   "source": [
    "We can access the `i`th element of a list using `my_list[i]`. We refer to `i` as an **index**, which refers to an element of `my_list`."
   ]
  },
  {
   "cell_type": "code",
   "execution_count": 167,
   "metadata": {},
   "outputs": [
    {
     "name": "stdout",
     "output_type": "stream",
     "text": [
      "3\n"
     ]
    }
   ],
   "source": [
    "print(list1[1])"
   ]
  },
  {
   "cell_type": "markdown",
   "metadata": {},
   "source": [
    "Were you expecting this to return 1 since that's the first element of `list1`? Be careful, since indexing starts with 0 in Python (unlike Matlab, where it starts with 1). Here are all of the elements in the list:"
   ]
  },
  {
   "cell_type": "code",
   "execution_count": 168,
   "metadata": {},
   "outputs": [
    {
     "name": "stdout",
     "output_type": "stream",
     "text": [
      "1 3 5\n"
     ]
    }
   ],
   "source": [
    "print(list1[0], list1[1], list1[2])"
   ]
  },
  {
   "cell_type": "markdown",
   "metadata": {},
   "source": [
    "A handy trick is to count backwards from the end of a list using negative numbers."
   ]
  },
  {
   "cell_type": "code",
   "execution_count": 169,
   "metadata": {},
   "outputs": [
    {
     "name": "stdout",
     "output_type": "stream",
     "text": [
      "5 3 1\n"
     ]
    }
   ],
   "source": [
    "print(list1[-1], list1[-2], list1[-3])"
   ]
  },
  {
   "cell_type": "markdown",
   "metadata": {},
   "source": [
    "We'll discuss more about indexing later on when we introduce arrays."
   ]
  },
  {
   "cell_type": "markdown",
   "metadata": {},
   "source": [
    "## Dictionaries\n",
    "\n",
    "A **dictionary** is composed of **keys** and **values** and is enclosed by curly braces. A key is a name that we use to retrieve a variable. For example, we might want to create a dictionary of phone numbers, then look up the phone number of a particular person."
   ]
  },
  {
   "cell_type": "code",
   "execution_count": 170,
   "metadata": {},
   "outputs": [
    {
     "name": "stdout",
     "output_type": "stream",
     "text": [
      "659656245\n"
     ]
    }
   ],
   "source": [
    "phonebook = {'Donald': 659656245, 'Santiago': 780859050, 'David': 289585404}\n",
    "print(phonebook['Donald'])"
   ]
  },
  {
   "cell_type": "markdown",
   "metadata": {},
   "source": [
    "We can add a new entry to the dictionary."
   ]
  },
  {
   "cell_type": "code",
   "execution_count": 171,
   "metadata": {},
   "outputs": [
    {
     "name": "stdout",
     "output_type": "stream",
     "text": [
      "{'Donald': 659656245, 'Santiago': 780859050, 'David': 289585404, 'Jim': 8502745642}\n"
     ]
    }
   ],
   "source": [
    "phonebook['Jim'] = 8502745642\n",
    "print(phonebook)"
   ]
  },
  {
   "cell_type": "markdown",
   "metadata": {},
   "source": [
    "The values in a dictionary can be changed, and they do not necessarily have to be numbers. For example, we might want to have a list of multiple phone numbers for one person."
   ]
  },
  {
   "cell_type": "code",
   "execution_count": 172,
   "metadata": {},
   "outputs": [
    {
     "name": "stdout",
     "output_type": "stream",
     "text": [
      "{'Donald': [9194280943, 5418675309], 'Santiago': 780859050, 'David': 289585404, 'Jim': 8502745642}\n"
     ]
    }
   ],
   "source": [
    "phonebook['Donald'] = [9194280943, 5418675309]\n",
    "print(phonebook)"
   ]
  },
  {
   "cell_type": "markdown",
   "metadata": {},
   "source": [
    "## Exercise\n",
    "\n",
    "2.1. In the cell below, add a new key-value pair to the existing dictionary `phonebook` with your own name and phone number and print the result."
   ]
  },
  {
   "cell_type": "code",
   "execution_count": 268,
   "metadata": {},
   "outputs": [
    {
     "name": "stdout",
     "output_type": "stream",
     "text": [
      "{'Donald': [9194280943, 5418675309], 'Santiago': 780859050, 'David': 289585404, 'Jim': 8502745642, 'Rose': [1234567890]}\n",
      "[1234567890]\n"
     ]
    }
   ],
   "source": [
    "phonebook['Rose'] = [1234567890]\n",
    "print(phonebook)\n",
    "print(phonebook['Rose'])"
   ]
  },
  {
   "cell_type": "markdown",
   "metadata": {},
   "source": [
    "# 3. For loops"
   ]
  },
  {
   "cell_type": "markdown",
   "metadata": {},
   "source": [
    "One reason that computers are so useful is because they are great at doing similar things many times. The `for` loop is one of the basic structures that allows us to do this. Here is a very basic example:"
   ]
  },
  {
   "cell_type": "code",
   "execution_count": 270,
   "metadata": {},
   "outputs": [
    {
     "name": "stdout",
     "output_type": "stream",
     "text": [
      "2\n",
      "6\n",
      "10\n"
     ]
    }
   ],
   "source": [
    "for n in [1,3,5]:\n",
    "    print(2*n)"
   ]
  },
  {
   "cell_type": "markdown",
   "metadata": {},
   "source": [
    "The above example is called a *for loop* because the indented part is repeated several times (i.e. looped), with `n` taking one of the values in the list during each iteration.\n",
    "\n",
    "A very handy thing to use with for loops is `range()`, which essentially creates a sequence with a range of sequential values (starting with 0, not 1!):"
   ]
  },
  {
   "cell_type": "code",
   "execution_count": 271,
   "metadata": {},
   "outputs": [
    {
     "name": "stdout",
     "output_type": "stream",
     "text": [
      "0\n",
      "1\n",
      "2\n",
      "3\n",
      "4\n"
     ]
    }
   ],
   "source": [
    "for n in range(5):\n",
    "    print(n)"
   ]
  },
  {
   "cell_type": "markdown",
   "metadata": {},
   "source": [
    "As another example, let's make a counter that counts how many times we have iterated over the loop."
   ]
  },
  {
   "cell_type": "code",
   "execution_count": 272,
   "metadata": {},
   "outputs": [
    {
     "name": "stdout",
     "output_type": "stream",
     "text": [
      "1\n",
      "2\n",
      "3\n",
      "4\n",
      "5\n"
     ]
    }
   ],
   "source": [
    "count = 0\n",
    "for n in range(5):\n",
    "    count += 1  # Note: This is a shortcut notation that does the same thing as count=count+1\n",
    "    print(count)"
   ]
  },
  {
   "cell_type": "markdown",
   "metadata": {},
   "source": [
    "We can include more than one operation inside of the for loop, remembering to indent everything that we want to be looped over. "
   ]
  },
  {
   "cell_type": "code",
   "execution_count": 273,
   "metadata": {},
   "outputs": [
    {
     "name": "stdout",
     "output_type": "stream",
     "text": [
      "0 0\n",
      "1 1\n",
      "4 8\n",
      "9 27\n",
      "16 64\n"
     ]
    }
   ],
   "source": [
    "for n in range(5):\n",
    "    n_squared = n**2\n",
    "    n_cubed = n**3\n",
    "    print(n_squared, n_cubed)"
   ]
  },
  {
   "cell_type": "markdown",
   "metadata": {},
   "source": [
    "Rather than printing each iteration, let's replace each element in a list with its square and then print it at the end. Note that, if a command appears with no indent, that signals that the loop has ended."
   ]
  },
  {
   "cell_type": "code",
   "execution_count": 178,
   "metadata": {},
   "outputs": [
    {
     "name": "stdout",
     "output_type": "stream",
     "text": [
      "[1, 4, 9, 16, 25]\n"
     ]
    }
   ],
   "source": [
    "n_list = [1,2,3,4,5]\n",
    "\n",
    "for i in range(len(n_list)):\n",
    "    n = n_list[i]\n",
    "    n_list[i] = n**2\n",
    "    \n",
    "print(n_list)"
   ]
  },
  {
   "cell_type": "markdown",
   "metadata": {},
   "source": [
    "Note that in the above example we had to use `i` to keep track of the index and `n` to keep track of the corresponding value in the array. A handy way to shorten things is to use `enumerate`."
   ]
  },
  {
   "cell_type": "code",
   "execution_count": 179,
   "metadata": {},
   "outputs": [
    {
     "name": "stdout",
     "output_type": "stream",
     "text": [
      "[1, 4, 9, 16, 25]\n"
     ]
    }
   ],
   "source": [
    "n_list = [1,2,3,4,5]\n",
    "\n",
    "for i, n in enumerate(n_list):  # The first variable after 'for' is the index, and the second is the corresponding value\n",
    "    n_list[i] = n**2\n",
    "    \n",
    "print(n_list)"
   ]
  },
  {
   "cell_type": "markdown",
   "metadata": {},
   "source": [
    "## Exercises"
   ]
  },
  {
   "cell_type": "markdown",
   "metadata": {},
   "source": [
    "3.1. In the cell below, two lists have been created. Create a new list, `list_c` (you might just want to set all of its elements to zero initially, then replace them later), and use a for loop to set each element in the new list equal to the sum of the corresponding elements from the first two lists. Print the result and show that `list_c` is `[3,7,11,15]`."
   ]
  },
  {
   "cell_type": "code",
   "execution_count": 260,
   "metadata": {},
   "outputs": [
    {
     "name": "stdout",
     "output_type": "stream",
     "text": [
      "[3, 7, 11, 15]\n"
     ]
    }
   ],
   "source": [
    "import numpy as np\n",
    "\n",
    "list_a = [1,3,5,7]\n",
    "list_b = [2,4,6,8]\n",
    "\n",
    "list_c = np.zeros(len(list_a)).astype(int) #preallocate a list that's zeroes that I'll replace later\n",
    "\n",
    "for n in range(0, len(list_a)):\n",
    "    list_c[n] = int(list_a[n]+list_b[n]) #make the element in list_c equal to the sum of a and b's elements at the current index\n",
    "\n",
    "print(list_c.tolist()) #convert from an array to a list, and print the results"
   ]
  },
  {
   "cell_type": "markdown",
   "metadata": {},
   "source": [
    "3.2. In the cell below, an array of temperatures in degrees Celsius has been created. Use a for loop and the conversion formula `f = 9/5*c + 32` to print each temperature in both Celsius and Fahrenheit."
   ]
  },
  {
   "cell_type": "code",
   "execution_count": 261,
   "metadata": {},
   "outputs": [
    {
     "name": "stdout",
     "output_type": "stream",
     "text": [
      "0  degrees Celsius is equal to  32.0  degrees Fahrenheit.\n",
      "10  degrees Celsius is equal to  50.0  degrees Fahrenheit.\n",
      "20  degrees Celsius is equal to  68.0  degrees Fahrenheit.\n",
      "30  degrees Celsius is equal to  86.0  degrees Fahrenheit.\n"
     ]
    }
   ],
   "source": [
    "celsius = [0, 10, 20, 30]\n",
    "\n",
    "for i, n in enumerate(celsius): #i is the index, and n is the entry that corresponds to the index\n",
    "    f = 9/5*celsius[i]+32\n",
    "    print(celsius[i],' degrees Celsius is equal to ', f, ' degrees Fahrenheit.')"
   ]
  },
  {
   "cell_type": "markdown",
   "metadata": {},
   "source": [
    "3.3. In the cell below, use a for loop to add up all of the numbers from 1 to 100. Print the result."
   ]
  },
  {
   "cell_type": "code",
   "execution_count": 262,
   "metadata": {},
   "outputs": [
    {
     "name": "stdout",
     "output_type": "stream",
     "text": [
      "5050\n"
     ]
    }
   ],
   "source": [
    "sumOfNums = 0\n",
    "\n",
    "for n in range(1, 101):\n",
    "    sumOfNums += n\n",
    "\n",
    "print(sumOfNums)"
   ]
  },
  {
   "cell_type": "markdown",
   "metadata": {},
   "source": [
    "For personal enrichment, take a look at this inspiring story related to the last exercise: https://nrich.maths.org/2478"
   ]
  },
  {
   "cell_type": "markdown",
   "metadata": {},
   "source": [
    "# 4. Boolean operations and conditional statements"
   ]
  },
  {
   "cell_type": "markdown",
   "metadata": {},
   "source": [
    "Boolean operations return values that are either true or false. Some examples are \"greater than\", \"less than\" and \"equal to\", as shown in the following examples."
   ]
  },
  {
   "cell_type": "code",
   "execution_count": 263,
   "metadata": {},
   "outputs": [
    {
     "name": "stdout",
     "output_type": "stream",
     "text": [
      "False\n",
      "True\n"
     ]
    }
   ],
   "source": [
    "print(1 > 2)\n",
    "print(1 < 2)"
   ]
  },
  {
   "cell_type": "code",
   "execution_count": 184,
   "metadata": {},
   "outputs": [
    {
     "name": "stdout",
     "output_type": "stream",
     "text": [
      "False\n",
      "True\n",
      "True\n"
     ]
    }
   ],
   "source": [
    "print(1 == 2)  # Note that testing equality requires two equal signs, unlike the assignment operator \"=\" we've seen so far.\n",
    "print(2 == 2)\n",
    "print(1 != 2)  # The operator \"!=\" means \"not equal\""
   ]
  },
  {
   "cell_type": "markdown",
   "metadata": {},
   "source": [
    "The above examples computed Boolean values by comparing numerical values. There are also operations that allow us to manipulate Boolean values using logical rules."
   ]
  },
  {
   "cell_type": "code",
   "execution_count": 264,
   "metadata": {},
   "outputs": [
    {
     "name": "stdout",
     "output_type": "stream",
     "text": [
      "True\n",
      "False\n",
      "False\n"
     ]
    }
   ],
   "source": [
    "# For AND, both things being compared must be True for the result to be True:\n",
    "print(True and True)\n",
    "print(True and False)\n",
    "print(False and False)"
   ]
  },
  {
   "cell_type": "code",
   "execution_count": 186,
   "metadata": {},
   "outputs": [
    {
     "name": "stdout",
     "output_type": "stream",
     "text": [
      "True\n",
      "True\n",
      "True\n",
      "False\n"
     ]
    }
   ],
   "source": [
    "# For OR, at least one of the things must be True for the result to be True:\n",
    "print(True or True)\n",
    "print(True or False)\n",
    "print(False or False or True)\n",
    "print(False or False)"
   ]
  },
  {
   "cell_type": "markdown",
   "metadata": {},
   "source": [
    "The control statements `if`, `elif`, and `else` enable us to choose what to do depending on Boolean values. As with for loops, all of the commands that are subject to the control statements must be indented. Below are a few examples."
   ]
  },
  {
   "cell_type": "code",
   "execution_count": 265,
   "metadata": {},
   "outputs": [
    {
     "name": "stdout",
     "output_type": "stream",
     "text": [
      "x is less than 10\n"
     ]
    }
   ],
   "source": [
    "x = 0\n",
    "if x < 10:\n",
    "    print('x is less than 10')  # This part is run only if the control statement is True"
   ]
  },
  {
   "cell_type": "code",
   "execution_count": 188,
   "metadata": {},
   "outputs": [],
   "source": [
    "x = 12\n",
    "if x < 10:\n",
    "    print('x is less than 10')  # This part is run only if the control statement is True"
   ]
  },
  {
   "cell_type": "code",
   "execution_count": 189,
   "metadata": {},
   "outputs": [
    {
     "name": "stdout",
     "output_type": "stream",
     "text": [
      "x is greater than or equal to 10\n"
     ]
    }
   ],
   "source": [
    "x = 12\n",
    "if x < 10:\n",
    "    print('x is less than 10')  # This part gets ignored since the control condition is False\n",
    "elif x >= 10:  # \"elif\" means \"else if\", i.e. check this condition if the first condition was False\n",
    "    print('x is greater than or equal to 10')"
   ]
  },
  {
   "cell_type": "code",
   "execution_count": 190,
   "metadata": {},
   "outputs": [
    {
     "name": "stdout",
     "output_type": "stream",
     "text": [
      "x is greater than (and not equal to) 10\n"
     ]
    }
   ],
   "source": [
    "x = 12\n",
    "if x < 10:\n",
    "    print('x is less than 10')\n",
    "elif x == 10:\n",
    "    print('x is equal to 10')\n",
    "else:  # This part is run if everything tried above was False\n",
    "    print('x is greater than (and not equal to) 10')"
   ]
  },
  {
   "cell_type": "markdown",
   "metadata": {},
   "source": [
    "## Exercises\n",
    "\n",
    "4.1. The operation `x%y` gives the remainder after dividing `x` by `y`. Use this operator and conditional statements to print \"x is even\" or \"x is odd\" depending on whether `x` is even or odd."
   ]
  },
  {
   "cell_type": "code",
   "execution_count": 274,
   "metadata": {},
   "outputs": [
    {
     "name": "stdout",
     "output_type": "stream",
     "text": [
      "x is even\n"
     ]
    }
   ],
   "source": [
    "x  = 4\n",
    "\n",
    "if x%2 == 0:\n",
    "    print('x is even')\n",
    "elif x%2 == 1:\n",
    "    print('x is odd')\n",
    "else:\n",
    "    print('x is neither odd nor even, and might be a float instead of an integer value!')"
   ]
  },
  {
   "cell_type": "markdown",
   "metadata": {},
   "source": [
    "4.2. In the cell below, two lists have been created. Create a new list, `list_c`, and use a for loop to set each entry of the new list to `1` if the corresponding entries of the first two lists are the same, or `0` if they are different. Print the new list, which should be equal to `[0,1,0,0]`."
   ]
  },
  {
   "cell_type": "code",
   "execution_count": 267,
   "metadata": {},
   "outputs": [
    {
     "name": "stdout",
     "output_type": "stream",
     "text": [
      "[0, 1, 0, 0]\n"
     ]
    }
   ],
   "source": [
    "list_a = [1,3,5,7]\n",
    "list_b = [2,3,4,5]\n",
    "\n",
    "list_c = [] \n",
    "for n in range(0, len(list_a)):\n",
    "    if list_a[n]==list_b[n]:\n",
    "        list_c.append(1)\n",
    "    else:\n",
    "        list_c.append(0)\n",
    "\n",
    "print(list_c)"
   ]
  },
  {
   "cell_type": "markdown",
   "metadata": {},
   "source": [
    "# 5. Functions"
   ]
  },
  {
   "cell_type": "markdown",
   "metadata": {},
   "source": [
    "Just like in mathematics, a function allows us to do an operation on some input. Functions are very handy because they allow us to perform the same operation on different inputs without having to copy and paste code each time we want to apply the operation to a new input. Here is a simple example:"
   ]
  },
  {
   "cell_type": "code",
   "execution_count": 193,
   "metadata": {},
   "outputs": [],
   "source": [
    "def square(z):\n",
    "    z_squared = z**2\n",
    "    return z_squared"
   ]
  },
  {
   "cell_type": "markdown",
   "metadata": {},
   "source": [
    "The syntax for defining a function is always the same. `def` tells us that we are defining a function. Next comes the name that we want to give the function, followed by its input (or inputs) and a colon. The rest of the function must be indented. In the case where a function is supposed to give us something back, it ends with `return`, followed by the thing that it gives us back. We can apply the function to a few different inputs as follows:"
   ]
  },
  {
   "cell_type": "code",
   "execution_count": 194,
   "metadata": {},
   "outputs": [
    {
     "name": "stdout",
     "output_type": "stream",
     "text": [
      "25\n",
      "36\n"
     ]
    }
   ],
   "source": [
    "print(square(5))\n",
    "print(square(-6))"
   ]
  },
  {
   "cell_type": "markdown",
   "metadata": {},
   "source": [
    "An important point about functions concerns **namespaces**. Any variables that are defined inside of the function exist only inside of the function and cease to exist after the function is run. In this above example, this means that we will get an error if we try to print the variable `z_squared`."
   ]
  },
  {
   "cell_type": "code",
   "execution_count": 195,
   "metadata": {},
   "outputs": [],
   "source": [
    "# Uncomment the line of code below and run the cell to see the error message: \n",
    "#print(z_squared)"
   ]
  },
  {
   "cell_type": "markdown",
   "metadata": {},
   "source": [
    "Further, if we define variables with the same name both inside and outside of a function. When the function is being run, the variable takes the value that it's assigned inside of the function. When the function isn't being run, though, the variable takes the value that it was assigned outside of the function."
   ]
  },
  {
   "cell_type": "code",
   "execution_count": 196,
   "metadata": {},
   "outputs": [
    {
     "name": "stdout",
     "output_type": "stream",
     "text": [
      "4\n",
      "42\n"
     ]
    }
   ],
   "source": [
    "x = 42\n",
    "\n",
    "def two_plus_two():  # note that a function doesn't have to take any inputs!\n",
    "    x = 2\n",
    "    return x + x\n",
    "\n",
    "print(two_plus_two())\n",
    "print(x)  # Remember: x takes the value here that it was assigned outside of the function"
   ]
  },
  {
   "cell_type": "markdown",
   "metadata": {},
   "source": [
    "## Exercises\n",
    "\n",
    "5.1. Write a function that converts Celsius temperatures to Fahrenheit (f = 9/5 * c + 32). Use a for loop together with this function to print the Fahrenheit values corresponding to the Celsius values `[0,10,20,30]`."
   ]
  },
  {
   "cell_type": "code",
   "execution_count": 197,
   "metadata": {},
   "outputs": [
    {
     "name": "stdout",
     "output_type": "stream",
     "text": [
      "0  degrees Celsius is equal to  32.0 degrees Fahrenheit.\n",
      "10  degrees Celsius is equal to  50.0 degrees Fahrenheit.\n",
      "20  degrees Celsius is equal to  68.0 degrees Fahrenheit.\n",
      "30  degrees Celsius is equal to  86.0 degrees Fahrenheit.\n"
     ]
    }
   ],
   "source": [
    "celsius = [0, 10, 20, 30]\n",
    "\n",
    "def CtoF(c):\n",
    "    f = 9/5*c+32\n",
    "    return f\n",
    "\n",
    "for n in range(0, len(celsius)):\n",
    "    f = CtoF(celsius[n])\n",
    "    print(celsius[n], ' degrees Celsius is equal to ', f, 'degrees Fahrenheit.')"
   ]
  },
  {
   "cell_type": "markdown",
   "metadata": {},
   "source": [
    "5.2. Write a function `f(n)` that adds up all of the numbers from 1 to `n` and returns the total."
   ]
  },
  {
   "cell_type": "code",
   "execution_count": 275,
   "metadata": {},
   "outputs": [
    {
     "data": {
      "text/plain": [
       "5050"
      ]
     },
     "execution_count": 275,
     "metadata": {},
     "output_type": "execute_result"
    }
   ],
   "source": [
    "def f(n):\n",
    "    sumOfNums = 0 #set variable equal to 0 to start\n",
    "    for i in range(1, n+1): #need to index to one more than n in python\n",
    "        sumOfNums += i\n",
    "    return sumOfNums\n",
    "\n",
    "f(100)"
   ]
  },
  {
   "cell_type": "markdown",
   "metadata": {},
   "source": [
    "5.3. Write a function `greater_than_10(x)` that prints the statement \"input is greater than 10\" or \"input is less than 10\" depending on whether the input is greater than or less than 10."
   ]
  },
  {
   "cell_type": "code",
   "execution_count": 199,
   "metadata": {},
   "outputs": [
    {
     "name": "stdout",
     "output_type": "stream",
     "text": [
      "x is less than 10\n",
      "x is equal to 10\n",
      "x is greater than 10\n"
     ]
    }
   ],
   "source": [
    "def greater_than_10(x):\n",
    "    if x > 10:\n",
    "        print('x is greater than 10')\n",
    "    elif x == 10:\n",
    "        print('x is equal to 10')\n",
    "    elif x < 10:\n",
    "        print('x is less than 10')\n",
    "\n",
    "greater_than_10(1)\n",
    "greater_than_10(10)\n",
    "greater_than_10(100)"
   ]
  },
  {
   "cell_type": "markdown",
   "metadata": {},
   "source": [
    "5.4. A function can take multiple arguments separated by a comma. Write a function `add_together(x,y)` that adds together its two arguments and returns the sum."
   ]
  },
  {
   "cell_type": "code",
   "execution_count": 200,
   "metadata": {},
   "outputs": [
    {
     "data": {
      "text/plain": [
       "4"
      ]
     },
     "execution_count": 200,
     "metadata": {},
     "output_type": "execute_result"
    }
   ],
   "source": [
    "def add_together(x,y):\n",
    "    xysum = x+y\n",
    "    return xysum\n",
    "\n",
    "add_together(1, 3)"
   ]
  },
  {
   "cell_type": "markdown",
   "metadata": {},
   "source": [
    "# 6. Numpy arrays\n",
    "\n",
    "Remember that Python is a general-purpose programming language. Numerical and scientific computing is just one of the many things that it can do. The part of Python that is specialized for numerical computation is called Numpy, and it is a collection (or \"library\") of functions and objects that allow us to do things like generate random numbers, take averages, and lots of other useful things.\n",
    "\n",
    "Two things are especially important when using Numpy. First, if we want to use functions or objects from numpy, we need to *import* Numpy. This is usually done at the top of a notebook or script, but can be done anywhere.\n"
   ]
  },
  {
   "cell_type": "code",
   "execution_count": 201,
   "metadata": {},
   "outputs": [],
   "source": [
    "import numpy as np"
   ]
  },
  {
   "cell_type": "markdown",
   "metadata": {},
   "source": [
    "The second important thing is that, in order to use a function or object from Numpy, we need to precede it with `np.`, which tells Python that we are asking for something that is part of Numpy. So, for example, the circumference of the unit circle is given by the following, where we make use of the special variable `pi` that is part of Numpy:"
   ]
  },
  {
   "cell_type": "code",
   "execution_count": 202,
   "metadata": {},
   "outputs": [
    {
     "data": {
      "text/plain": [
       "6.283185307179586"
      ]
     },
     "execution_count": 202,
     "metadata": {},
     "output_type": "execute_result"
    }
   ],
   "source": [
    "2*np.pi"
   ]
  },
  {
   "cell_type": "markdown",
   "metadata": {},
   "source": [
    "Note that the last part of our import statement above, `as np` just introduces a shorthand for Numpy, allowing us to write, for example, `np.pi` rather than `numpy.pi`."
   ]
  },
  {
   "cell_type": "markdown",
   "metadata": {},
   "source": [
    "Numpy **arrays** can be thought of as vectors or matrices (or their higher-dimensional generalizations). The data that we analyze throughout this course will generally be stored as arrays, so learning how to understand and manipulate them is very important."
   ]
  },
  {
   "cell_type": "markdown",
   "metadata": {},
   "source": [
    "## Creating new arrays and indexing"
   ]
  },
  {
   "cell_type": "markdown",
   "metadata": {},
   "source": [
    "Arrays can be created by hand as follows:"
   ]
  },
  {
   "cell_type": "code",
   "execution_count": 203,
   "metadata": {},
   "outputs": [
    {
     "name": "stdout",
     "output_type": "stream",
     "text": [
      "[1 3 5 7 9]\n",
      "[[ 2  4  6]\n",
      " [ 8 10 12]]\n"
     ]
    }
   ],
   "source": [
    "# a one-dimensional array, i.e. a vector:\n",
    "a1 = np.array([1,3,5,7,9])  \n",
    "print(a1)\n",
    "\n",
    "# a two-dimensional array, i.e. a matrix:\n",
    "a2 = np.array([[2, 4, 6],  # Note that we are allowed to continue on the next line if inside of a parenthesis\n",
    "               [8, 10, 12]])  \n",
    "print(a2)"
   ]
  },
  {
   "cell_type": "markdown",
   "metadata": {},
   "source": [
    "As we did with lists above, we can use square brackets to obtain just part of an array. First, let's use indices to get individual elements of an array."
   ]
  },
  {
   "cell_type": "code",
   "execution_count": 204,
   "metadata": {},
   "outputs": [
    {
     "name": "stdout",
     "output_type": "stream",
     "text": [
      "1\n",
      "3\n",
      "5\n"
     ]
    }
   ],
   "source": [
    "a1 = np.array([1,3,5,7,9])\n",
    "print(a1[0])  # remember that indexing starts with 0, not 1!\n",
    "print(a1[1])\n",
    "print(a1[2])  "
   ]
  },
  {
   "cell_type": "markdown",
   "metadata": {},
   "source": [
    "As with lists, we can also count backwards from the end with negative indices."
   ]
  },
  {
   "cell_type": "code",
   "execution_count": 205,
   "metadata": {},
   "outputs": [
    {
     "name": "stdout",
     "output_type": "stream",
     "text": [
      "9\n",
      "7\n",
      "5\n"
     ]
    }
   ],
   "source": [
    "print(a1[-1])\n",
    "print(a1[-2])\n",
    "print(a1[-3])  "
   ]
  },
  {
   "cell_type": "markdown",
   "metadata": {},
   "source": [
    "We can use this type of indexing to reassign elements in an array, as in the following examples."
   ]
  },
  {
   "cell_type": "code",
   "execution_count": 206,
   "metadata": {},
   "outputs": [
    {
     "name": "stdout",
     "output_type": "stream",
     "text": [
      "[1 3 5 7 9]\n",
      "[42  3  5  7  9]\n",
      "[42  3  5  7 43]\n"
     ]
    }
   ],
   "source": [
    "a1 = np.array([1,3,5,7,9]) \n",
    "print(a1)  # the array before making any changes\n",
    "\n",
    "a1[0] = 42  # change the first element and print the result\n",
    "print(a1)\n",
    "\n",
    "a1[-1] = 43  # change the last element and print the result\n",
    "print(a1)"
   ]
  },
  {
   "cell_type": "markdown",
   "metadata": {},
   "source": [
    "We can also \"slice\" an array, where a **slice** refers to a range of incides. The slice `[i:j]` returns a smaller array that starts with the `i`th entry (including this entry) and continues to the `j`th entry (not including this entry). (Remember that indexes start from 0, not 1!)"
   ]
  },
  {
   "cell_type": "code",
   "execution_count": 207,
   "metadata": {},
   "outputs": [
    {
     "name": "stdout",
     "output_type": "stream",
     "text": [
      "[5 7]\n"
     ]
    }
   ],
   "source": [
    "print(a1[2:4])"
   ]
  },
  {
   "cell_type": "markdown",
   "metadata": {},
   "source": [
    "Similarly, we can use `[:i]` to return all of the elements up to (but not including) index `i`, or `[i:]` to return all of the elements starting from (and including) index `i`, as in the following examples."
   ]
  },
  {
   "cell_type": "code",
   "execution_count": 208,
   "metadata": {},
   "outputs": [
    {
     "name": "stdout",
     "output_type": "stream",
     "text": [
      "[1 3]\n",
      "[5 7 9]\n"
     ]
    }
   ],
   "source": [
    "a1 = np.array([1,3,5,7,9])\n",
    "print(a1[:2])\n",
    "print(a1[2:])"
   ]
  },
  {
   "cell_type": "markdown",
   "metadata": {},
   "source": [
    "Just as we were able to reassign individual elements in an array above, we can reassign slices in the same way."
   ]
  },
  {
   "cell_type": "code",
   "execution_count": 209,
   "metadata": {},
   "outputs": [
    {
     "name": "stdout",
     "output_type": "stream",
     "text": [
      "[23 45  5  7  9]\n"
     ]
    }
   ],
   "source": [
    "a1[:2] = np.array([23, 45])\n",
    "print(a1)"
   ]
  },
  {
   "cell_type": "markdown",
   "metadata": {},
   "source": [
    "For a multidimensional array, indices along each dimension should be separated by a comma. For a two-dimensional array, the first index refers to the row, and the second to the column."
   ]
  },
  {
   "cell_type": "code",
   "execution_count": 210,
   "metadata": {},
   "outputs": [
    {
     "name": "stdout",
     "output_type": "stream",
     "text": [
      "4\n"
     ]
    }
   ],
   "source": [
    "a2 = np.array([[2, 4, 6],\n",
    "              [8, 10, 12]])\n",
    "print(a2[0,1])"
   ]
  },
  {
   "cell_type": "markdown",
   "metadata": {},
   "source": [
    "We can also get an entire row or an entire column of a two-dimensional array as in the following example. Here, we can think of `:` as a slice that includes all elements."
   ]
  },
  {
   "cell_type": "code",
   "execution_count": 211,
   "metadata": {},
   "outputs": [
    {
     "name": "stdout",
     "output_type": "stream",
     "text": [
      "[2 4 6]\n",
      "[ 6 12]\n"
     ]
    }
   ],
   "source": [
    "print(a2[0,:])  # print the first (i.e. 0th) row\n",
    "print(a2[:,-1])  # print the last column"
   ]
  },
  {
   "cell_type": "markdown",
   "metadata": {},
   "source": [
    "It is often useful to ask how long an array is along each dimension."
   ]
  },
  {
   "cell_type": "code",
   "execution_count": 212,
   "metadata": {},
   "outputs": [
    {
     "name": "stdout",
     "output_type": "stream",
     "text": [
      "(5,)\n",
      "(2, 3)\n"
     ]
    }
   ],
   "source": [
    "print(np.shape(a1))  # for a one-dimensional array, we could also use len(a1)\n",
    "print(np.shape(a2))"
   ]
  },
  {
   "cell_type": "markdown",
   "metadata": {},
   "source": [
    "One common way to quickly create a new array is to fill it with zeros, as follows, where the argument gives the length of the array:"
   ]
  },
  {
   "cell_type": "code",
   "execution_count": 213,
   "metadata": {},
   "outputs": [
    {
     "name": "stdout",
     "output_type": "stream",
     "text": [
      "[0. 0. 0. 0. 0.]\n"
     ]
    }
   ],
   "source": [
    "a3 = np.zeros(5)\n",
    "print(a3)"
   ]
  },
  {
   "cell_type": "markdown",
   "metadata": {},
   "source": [
    "If we want to create a two-dimensional array (i.e. a matrix) filled with zeros, the argument should give the dimensions as `(dim1, dim2)`."
   ]
  },
  {
   "cell_type": "code",
   "execution_count": 214,
   "metadata": {},
   "outputs": [
    {
     "name": "stdout",
     "output_type": "stream",
     "text": [
      "[[0. 0. 0. 0. 0.]\n",
      " [0. 0. 0. 0. 0.]\n",
      " [0. 0. 0. 0. 0.]]\n"
     ]
    }
   ],
   "source": [
    "a4 = np.zeros((3,5))\n",
    "print(a4)"
   ]
  },
  {
   "cell_type": "markdown",
   "metadata": {},
   "source": [
    "If we want the array to have uniform nonzero values, we can similarly use `np.ones`."
   ]
  },
  {
   "cell_type": "code",
   "execution_count": 215,
   "metadata": {},
   "outputs": [
    {
     "name": "stdout",
     "output_type": "stream",
     "text": [
      "A vector of ones:\n",
      "[1. 1. 1. 1. 1.]\n",
      "A matrix of sevens:\n",
      "[[7. 7. 7. 7. 7.]\n",
      " [7. 7. 7. 7. 7.]\n",
      " [7. 7. 7. 7. 7.]]\n"
     ]
    }
   ],
   "source": [
    "a5 = np.ones(5)\n",
    "print('A vector of ones:')\n",
    "print(a5)\n",
    "\n",
    "a6 = 7*np.ones((3,5))\n",
    "print('A matrix of sevens:')\n",
    "print(a6)"
   ]
  },
  {
   "cell_type": "markdown",
   "metadata": {},
   "source": [
    "Why would we want to have an array full of zeros or ones? A common thing to do is to initialize an array this way, then to change the elements one-by-one to the values that we want, according to some rule. This is often done with a for loop. In the following example, we'll make an array with the squares of all of the integers from 1 to 10."
   ]
  },
  {
   "cell_type": "code",
   "execution_count": 216,
   "metadata": {},
   "outputs": [
    {
     "name": "stdout",
     "output_type": "stream",
     "text": [
      "[  1.   4.   9.  16.  25.  36.  49.  64.  81. 100.]\n"
     ]
    }
   ],
   "source": [
    "squares = np.zeros(10)\n",
    "\n",
    "for i in range(10):\n",
    "    squares[i] = (i+1)**2  # use i+1 here since we want to start from 1, not 0\n",
    "    \n",
    "print(squares)"
   ]
  },
  {
   "cell_type": "markdown",
   "metadata": {},
   "source": [
    "Or, in the next example, we can use nested for loops to generate a multiplication table."
   ]
  },
  {
   "cell_type": "code",
   "execution_count": 217,
   "metadata": {},
   "outputs": [
    {
     "name": "stdout",
     "output_type": "stream",
     "text": [
      "[[  1.   2.   3.   4.   5.   6.   7.   8.   9.  10.]\n",
      " [  2.   4.   6.   8.  10.  12.  14.  16.  18.  20.]\n",
      " [  3.   6.   9.  12.  15.  18.  21.  24.  27.  30.]\n",
      " [  4.   8.  12.  16.  20.  24.  28.  32.  36.  40.]\n",
      " [  5.  10.  15.  20.  25.  30.  35.  40.  45.  50.]\n",
      " [  6.  12.  18.  24.  30.  36.  42.  48.  54.  60.]\n",
      " [  7.  14.  21.  28.  35.  42.  49.  56.  63.  70.]\n",
      " [  8.  16.  24.  32.  40.  48.  56.  64.  72.  80.]\n",
      " [  9.  18.  27.  36.  45.  54.  63.  72.  81.  90.]\n",
      " [ 10.  20.  30.  40.  50.  60.  70.  80.  90. 100.]]\n"
     ]
    }
   ],
   "source": [
    "mult_table = np.zeros((10, 10))\n",
    "\n",
    "for i in range(10):\n",
    "    for j in range(10):\n",
    "        mult_table[i,j] = (i+1)*(j+1)\n",
    "        \n",
    "print(mult_table)"
   ]
  },
  {
   "cell_type": "markdown",
   "metadata": {},
   "source": [
    "Although we have just considered one- and two-dimensional arrays so far, they can have arbitrary dimension (though they get harder to visualize as the dimension gets higher). Here we'll make a three-dimensional array of zeros and print its shape."
   ]
  },
  {
   "cell_type": "code",
   "execution_count": 218,
   "metadata": {},
   "outputs": [
    {
     "name": "stdout",
     "output_type": "stream",
     "text": [
      "(3, 4, 5)\n"
     ]
    }
   ],
   "source": [
    "a7 = np.zeros((3,4,5))\n",
    "print(np.shape(a7))"
   ]
  },
  {
   "cell_type": "markdown",
   "metadata": {},
   "source": [
    "Another very useful way to create an array is using `arange`, which creates a one-dimensional array of ordered elements (similar to `range`, which we encountered above).\n",
    "\n",
    "If there's one number as input, `arange` creates an array of integers up to (but not including) that number, starting from 0:"
   ]
  },
  {
   "cell_type": "code",
   "execution_count": 219,
   "metadata": {},
   "outputs": [
    {
     "name": "stdout",
     "output_type": "stream",
     "text": [
      "[0 1 2 3 4 5 6 7 8 9]\n"
     ]
    }
   ],
   "source": [
    "print(np.arange(10))"
   ]
  },
  {
   "cell_type": "markdown",
   "metadata": {},
   "source": [
    "If there are two inputs, it creates an array of integers from the first to the second number:"
   ]
  },
  {
   "cell_type": "code",
   "execution_count": 220,
   "metadata": {},
   "outputs": [
    {
     "name": "stdout",
     "output_type": "stream",
     "text": [
      "[ 5  6  7  8  9 10 11 12 13 14]\n"
     ]
    }
   ],
   "source": [
    "print(np.arange(5, 15))"
   ]
  },
  {
   "cell_type": "markdown",
   "metadata": {},
   "source": [
    "Finally, if three numbers are given as input, the third input determines the spacing between successive numbers in the array:"
   ]
  },
  {
   "cell_type": "code",
   "execution_count": 221,
   "metadata": {},
   "outputs": [
    {
     "name": "stdout",
     "output_type": "stream",
     "text": [
      "[0.  0.2 0.4 0.6 0.8 1.  1.2 1.4 1.6 1.8 2.  2.2 2.4 2.6 2.8 3.  3.2 3.4\n",
      " 3.6 3.8 4.  4.2 4.4 4.6 4.8]\n"
     ]
    }
   ],
   "source": [
    "print(np.arange(0, 5, 0.2))"
   ]
  },
  {
   "cell_type": "markdown",
   "metadata": {},
   "source": [
    "Another often useful way to create an array is to fill it with random values. The most common ways to do this are to use `np.random.rand` to generate random values distributed uniformly over (0,1), or `np.random.randn` to generate random values from the standard normal distribution (i.e. a bell-shaped distribution centered at 0)."
   ]
  },
  {
   "cell_type": "code",
   "execution_count": 222,
   "metadata": {},
   "outputs": [
    {
     "name": "stdout",
     "output_type": "stream",
     "text": [
      "A single random number: \n",
      " 0.535757992173171\n",
      "A one-dimensional array of random numbers: \n",
      " [0.49465423 0.03906611 0.06615185 0.77534212 0.2708092 ]\n",
      "A two-dimensional array of random numbers: \n",
      " [[0.87250626 0.49556617 0.30737273 0.58253452 0.42913447]\n",
      " [0.73055857 0.8520312  0.86986064 0.25710717 0.10754223]\n",
      " [0.69887684 0.93385225 0.9137509  0.11388172 0.3019226 ]\n",
      " [0.23763816 0.70288399 0.17402902 0.39494377 0.28066491]\n",
      " [0.72462226 0.8652551  0.92406742 0.22290285 0.0698248 ]]\n"
     ]
    }
   ],
   "source": [
    "print('A single random number: \\n', np.random.rand())\n",
    "print('A one-dimensional array of random numbers: \\n', np.random.rand(5))\n",
    "print('A two-dimensional array of random numbers: \\n', np.random.rand(5,5))"
   ]
  },
  {
   "cell_type": "markdown",
   "metadata": {},
   "source": [
    "## Exercises\n",
    "\n",
    "6.1. Create a 5-by-5 array of zeros, then use a for loop to set all of the diagonal elements to 1."
   ]
  },
  {
   "cell_type": "code",
   "execution_count": 223,
   "metadata": {},
   "outputs": [
    {
     "name": "stdout",
     "output_type": "stream",
     "text": [
      "[[1. 0. 0. 0. 0.]\n",
      " [0. 1. 0. 0. 0.]\n",
      " [0. 0. 1. 0. 0.]\n",
      " [0. 0. 0. 1. 0.]\n",
      " [0. 0. 0. 0. 1.]]\n"
     ]
    }
   ],
   "source": [
    "array5 = np.zeros((5,5))\n",
    "\n",
    "for n in range(0, len(array5)):\n",
    "    array5[n,n] = 1 #diagonal values will have the same index for the row and the column\n",
    "\n",
    "print(array5)"
   ]
  },
  {
   "cell_type": "markdown",
   "metadata": {},
   "source": [
    "6.2. Create a 5-by-5 array of zeros, then use slicing and `np.ones` to set every element in the middle column to 1.\n"
   ]
  },
  {
   "cell_type": "code",
   "execution_count": 224,
   "metadata": {},
   "outputs": [
    {
     "name": "stdout",
     "output_type": "stream",
     "text": [
      "[[0. 0. 1. 0. 0.]\n",
      " [0. 0. 1. 0. 0.]\n",
      " [0. 0. 1. 0. 0.]\n",
      " [0. 0. 1. 0. 0.]\n",
      " [0. 0. 1. 0. 0.]]\n"
     ]
    }
   ],
   "source": [
    "array5 = np.zeros((5,5))\n",
    "\n",
    "array5[:, 2] = 1 #all rows, column 2\n",
    "print(array5)"
   ]
  },
  {
   "cell_type": "markdown",
   "metadata": {},
   "source": [
    "6.3. Create an array of zeros of length 10. Set the first element to zero and the second element to 1. Then use a for loop to set the remaining elements to the Fibonnaci sequence, in which each element is the sum of the two elements that came before it. Print the resulting array. Is the last element 34?"
   ]
  },
  {
   "cell_type": "code",
   "execution_count": 277,
   "metadata": {},
   "outputs": [
    {
     "name": "stdout",
     "output_type": "stream",
     "text": [
      "[ 0.  1.  1.  2.  3.  5.  8. 13. 21. 34.]\n",
      "the last element is  34.0  :)\n"
     ]
    }
   ],
   "source": [
    "array10 = np.zeros(10)\n",
    "array10[0] = 0 #set the first element to 0\n",
    "array10[1] = 1 #set the second element to 1\n",
    "\n",
    "#set the remaining elements of array10 to the Fibonnaci sequence (each element is the sum of the two elements before it)\n",
    "for n in range(2, len(array10)):\n",
    "    #find the two elements before the current index\n",
    "    array10[n] = array10[n-1]+array10[n-2]\n",
    "    \n",
    "print(array10) #the last element is 34 :)\n",
    "print('the last element is ', array10[-1], ' :)')"
   ]
  },
  {
   "cell_type": "markdown",
   "metadata": {},
   "source": [
    "## Arithemetic with arrays"
   ]
  },
  {
   "cell_type": "markdown",
   "metadata": {},
   "source": [
    "As mentioned above, Numpy arrays can be thought of as vectors (and their higher-dimensional counterparts). \n",
    "\n",
    "The first important property of a vector is that we can add or subtract two vectors together and get another vector of the same shape. Vector addition just means that each component of the first vector is added to the corresponding component of the second vector, as in the following example."
   ]
  },
  {
   "cell_type": "code",
   "execution_count": 226,
   "metadata": {},
   "outputs": [
    {
     "name": "stdout",
     "output_type": "stream",
     "text": [
      "[0. 1. 2. 3. 4. 5. 6. 7. 8. 9.]\n",
      "[1. 1. 1. 1. 1. 1. 1. 1. 1. 1.]\n",
      "[ 1.  2.  3.  4.  5.  6.  7.  8.  9. 10.]\n"
     ]
    }
   ],
   "source": [
    "b1 = np.arange(10.)  # Note: using 10. rather than 10 means the array is filled with float numbers rather than integers\n",
    "b2 = np.ones(10)\n",
    "b3 = b1 + b2\n",
    "print(b1)\n",
    "print(b2)\n",
    "print(b3)"
   ]
  },
  {
   "cell_type": "markdown",
   "metadata": {},
   "source": [
    "The second important property of a vector is that we can multiply a vector by a number and get back a vector of the same type. In this case, the number that multiplies the vector simply multiplies each individual element in the vector, as in the following example."
   ]
  },
  {
   "cell_type": "code",
   "execution_count": 227,
   "metadata": {},
   "outputs": [
    {
     "name": "stdout",
     "output_type": "stream",
     "text": [
      "[0. 1. 2. 3. 4. 5. 6. 7. 8. 9.]\n",
      "[ 0.  3.  6.  9. 12. 15. 18. 21. 24. 27.]\n"
     ]
    }
   ],
   "source": [
    "b1 = np.arange(10.)\n",
    "b4 = 3*b1\n",
    "print(b1)\n",
    "print(b4)"
   ]
  },
  {
   "cell_type": "markdown",
   "metadata": {},
   "source": [
    "Other basic arithemetic operations work in a similar way, element by element. One important thing to note is that the multiplication operator `*`, when applied to two vectors, refers to elementwise multiplication."
   ]
  },
  {
   "cell_type": "code",
   "execution_count": 228,
   "metadata": {},
   "outputs": [
    {
     "name": "stdout",
     "output_type": "stream",
     "text": [
      "[0. 1. 2. 3. 4. 5. 6. 7. 8. 9.]\n",
      "[2. 2. 2. 2. 2. 2. 2. 2. 2. 2.]\n",
      "[ 0.  2.  4.  6.  8. 10. 12. 14. 16. 18.]\n"
     ]
    }
   ],
   "source": [
    "b1 = np.arange(10.)\n",
    "b5 = 2*np.ones(10)\n",
    "b6 = b1*b5\n",
    "print(b1)\n",
    "print(b5)\n",
    "print(b6)"
   ]
  },
  {
   "cell_type": "markdown",
   "metadata": {},
   "source": [
    "This is a potential point of confusion for Matlab users, where applying the `*` operator to two vectors gives a dot product (i.e. elementwise multiplication followed by a sum over all elements) for vectors or a matrix product for products involving matrices. To take a dot product with Numpy, use either `np.dot` or `@`."
   ]
  },
  {
   "cell_type": "code",
   "execution_count": 229,
   "metadata": {},
   "outputs": [
    {
     "name": "stdout",
     "output_type": "stream",
     "text": [
      "[ 4. 10. 18.]\n",
      "32.0\n",
      "32.0\n"
     ]
    }
   ],
   "source": [
    "b7 = np.array([1., 2., 3.])\n",
    "b8 = np.array([4., 5., 6.])\n",
    "print(b7*b8)\n",
    "print(np.dot(b7, b8))\n",
    "print(b7 @ b8)"
   ]
  },
  {
   "cell_type": "markdown",
   "metadata": {},
   "source": [
    "The extension of the above ideas to multidimensional arrays is straightforward, as illustrated by the following examples."
   ]
  },
  {
   "cell_type": "code",
   "execution_count": 230,
   "metadata": {},
   "outputs": [
    {
     "name": "stdout",
     "output_type": "stream",
     "text": [
      "Addition: \n",
      " [[ 1.  5.  9.]\n",
      " [13. 17. 21.]]\n",
      "Scalar multiplication: \n",
      " [[ -0.  -2.  -4.]\n",
      " [ -6.  -8. -10.]]\n",
      "(Elementwise) matrix multiplication: \n",
      " [[  0.   6.  20.]\n",
      " [ 42.  72. 110.]]\n"
     ]
    }
   ],
   "source": [
    "b9 = np.array([[0., 2., 4.],\n",
    "              [6., 8., 10.]])\n",
    "b10 = np.array([[1., 3., 5.],\n",
    "                [7., 9., 11.]])\n",
    "\n",
    "print('Addition: \\n', b9 + b10)  # Note: when occurring inside of a string, `\\n` means start a new line\n",
    "print('Scalar multiplication: \\n', -1*b9)\n",
    "print('(Elementwise) matrix multiplication: \\n', b9 * b10)"
   ]
  },
  {
   "cell_type": "markdown",
   "metadata": {},
   "source": [
    "Be careful to note that, typically, only arrays of the same size can be combined. Trying to combine them will result in an error."
   ]
  },
  {
   "cell_type": "code",
   "execution_count": 231,
   "metadata": {},
   "outputs": [],
   "source": [
    "b7 = np.array([1., 2., 3.])\n",
    "b10 = np.array([4., 5.])\n",
    "\n",
    "# Uncomment the line below and run the cell to see the error message:\n",
    "#print(b7 + b10)"
   ]
  },
  {
   "cell_type": "markdown",
   "metadata": {},
   "source": [
    "An exception to this rule is **broadcasting**, as illustrated in the following examples."
   ]
  },
  {
   "cell_type": "code",
   "execution_count": 232,
   "metadata": {},
   "outputs": [
    {
     "name": "stdout",
     "output_type": "stream",
     "text": [
      "[2.5 3.5 4.5]\n"
     ]
    }
   ],
   "source": [
    "# A scalar can be broadcast with a vector:\n",
    "\n",
    "b7 = np.array([1., 2., 3.])\n",
    "b11 = 1.5 + b7  # The same value (1.5) is \"broadcast\" to combine with each indivicual element of b7\n",
    "print(b11)"
   ]
  },
  {
   "cell_type": "code",
   "execution_count": 233,
   "metadata": {},
   "outputs": [
    {
     "name": "stdout",
     "output_type": "stream",
     "text": [
      "[[ 3.  6.  9.]\n",
      " [ 9. 12. 15.]]\n"
     ]
    }
   ],
   "source": [
    "# A vector can be broadcast with a matrix (of compatible dimensions):\n",
    "\n",
    "b7 = np.array([1., 2., 3.])\n",
    "b12 = np.array([[2, 4, 6],\n",
    "              [8, 10, 12]])\n",
    "b13 = b7 + b12  # The same three values from b7 are \"broadcast\" into each individual row of b12\n",
    "print(b13)"
   ]
  },
  {
   "cell_type": "markdown",
   "metadata": {},
   "source": [
    "If broadcasting seems a bit confusing, feel free not to use it in your own code. It can be a handy shortcut, but there are always other ways to combine arrays in which broadcasting isn't necessary."
   ]
  },
  {
   "cell_type": "markdown",
   "metadata": {},
   "source": [
    "## Exercises\n",
    "\n",
    "6.4. Use vector addition and scalar multiplication to convert the array of Celsius temperatures below to a new array of Fahrenheit temperatures and print the resulting array."
   ]
  },
  {
   "cell_type": "code",
   "execution_count": 234,
   "metadata": {},
   "outputs": [
    {
     "name": "stdout",
     "output_type": "stream",
     "text": [
      "[32. 50. 68. 86.]\n"
     ]
    }
   ],
   "source": [
    "celsius = np.array([0., 10., 20., 30.])\n",
    "\n",
    "fahrenheit = celsius*9/5+32\n",
    "print(fahrenheit)"
   ]
  },
  {
   "cell_type": "markdown",
   "metadata": {},
   "source": [
    "6.5. Using `b7 = np.array([1., 2., 3.])` and `b8 = np.array([4., 5., 6.])` as above, make guesses about what answers you expect the following to give:\n",
    "\n",
    "    - `b8 - b7` (subtraction)\n",
    "    - `b7 / b8` (division)\n",
    "    - `b7**2` (exponentiation)\n",
    "\n",
    "In each case, check whether your guesses were right."
   ]
  },
  {
   "cell_type": "code",
   "execution_count": 235,
   "metadata": {},
   "outputs": [
    {
     "name": "stdout",
     "output_type": "stream",
     "text": [
      "[3. 3. 3.]\n",
      "[0.25 0.4  0.5 ]\n",
      "[1. 4. 9.]\n"
     ]
    }
   ],
   "source": [
    "b7 = np.array([1., 2., 3.])\n",
    "b8 = np.array([4., 5., 6.])\n",
    "\n",
    "\n",
    "#b8-b7 will do element-wise subtraction\n",
    "subtract = b8-b7\n",
    "print(subtract) #this does element-wise subtraction :)\n",
    "\n",
    "#b7/b8 will do element-wise division\n",
    "divide = b7/b8\n",
    "print(divide) #this does element-wise division :)\n",
    "\n",
    "#b7**2 will square the elements of b7\n",
    "squared = b7**2\n",
    "print(squared) #this squares the elements of b7 :)\n"
   ]
  },
  {
   "cell_type": "markdown",
   "metadata": {},
   "source": [
    "## Masking and fancy indexing"
   ]
  },
  {
   "cell_type": "markdown",
   "metadata": {},
   "source": [
    "A **mask** enables us to select elements of an array that satisfy a certain condition. In the example below, we will select just the even elements in an array."
   ]
  },
  {
   "cell_type": "code",
   "execution_count": 236,
   "metadata": {},
   "outputs": [
    {
     "name": "stdout",
     "output_type": "stream",
     "text": [
      "[0 1 2 3 4 5 6 7 8 9]\n",
      "[ True False  True False  True False  True False  True False]\n"
     ]
    }
   ],
   "source": [
    "b14 = np.arange(10)\n",
    "print(b14)\n",
    "mask = (b14%2 == 0)  # The right hand side is True for elements that have remainder 0 when divided by 2\n",
    "print(mask)\n"
   ]
  },
  {
   "cell_type": "markdown",
   "metadata": {},
   "source": [
    "Now we can use this mask to select only the elements of `b14` for which the condition is True."
   ]
  },
  {
   "cell_type": "code",
   "execution_count": 237,
   "metadata": {},
   "outputs": [
    {
     "name": "stdout",
     "output_type": "stream",
     "text": [
      "[0 2 4 6 8]\n",
      "[0 2 4 6 8]\n"
     ]
    }
   ],
   "source": [
    "print(b14[mask])\n",
    "\n",
    "# Note that we could also get the same thing without defining mask as a variable:\n",
    "print(b14[b14%2==0])"
   ]
  },
  {
   "cell_type": "markdown",
   "metadata": {},
   "source": [
    "We could also choose to set the elements selected by the mask to some other value:"
   ]
  },
  {
   "cell_type": "code",
   "execution_count": 238,
   "metadata": {},
   "outputs": [
    {
     "name": "stdout",
     "output_type": "stream",
     "text": [
      "[0 1 0 3 0 5 0 7 0 9]\n"
     ]
    }
   ],
   "source": [
    "b14[mask] = np.zeros(5)\n",
    "print(b14)"
   ]
  },
  {
   "cell_type": "markdown",
   "metadata": {},
   "source": [
    "In fact, we can do the same thing in a simpler way using broadcasting:"
   ]
  },
  {
   "cell_type": "code",
   "execution_count": 239,
   "metadata": {},
   "outputs": [
    {
     "name": "stdout",
     "output_type": "stream",
     "text": [
      "[0 1 0 3 0 5 0 7 0 9]\n"
     ]
    }
   ],
   "source": [
    "b14 = np.arange(10)\n",
    "b14[mask] = 0\n",
    "print(b14)"
   ]
  },
  {
   "cell_type": "markdown",
   "metadata": {},
   "source": [
    "Let's say that we have an array or list `indices_list` giving the indices that we would like to extract from another array. We can do this using **fancy indexing** as follows."
   ]
  },
  {
   "cell_type": "code",
   "execution_count": 240,
   "metadata": {},
   "outputs": [
    {
     "name": "stdout",
     "output_type": "stream",
     "text": [
      "[1 3 9 9]\n",
      "[1 3 9 9]\n"
     ]
    }
   ],
   "source": [
    "b15 = np.array([1, 3, 5, 7, 9])\n",
    "indices_list = [0, 1, 4, 4]  # some indices of the above array that we care about\n",
    "print(b15[indices_list])\n",
    "\n",
    "# Note that we can also just skip defining indices_list and get the same result with the following:\n",
    "print(b15[[0, 1, 4, 4]])"
   ]
  },
  {
   "cell_type": "markdown",
   "metadata": {},
   "source": [
    "## Exercises\n",
    "\n",
    "6.6. In an earlier exercise, we created an array of the first 10 Fibonacci numbers. Use a mask to create separate arrays of even and odd Fibonacci numbers and print the two resulting arrays."
   ]
  },
  {
   "cell_type": "code",
   "execution_count": 241,
   "metadata": {},
   "outputs": [
    {
     "name": "stdout",
     "output_type": "stream",
     "text": [
      "original Fibonacci array:  [ 0.  1.  1.  2.  3.  5.  8. 13. 21. 34.]\n",
      "even elements of Fibonacci sequence:  [ 0.  2.  8. 34.]\n",
      "odd elements of the Fibonacci sequence:  [ 1.  1.  3.  5. 13. 21.]\n"
     ]
    }
   ],
   "source": [
    "#This is what I wrote earlier (I don't want to re-run everything when I reopen VSCode):\n",
    "import numpy as np\n",
    "array10 = np.zeros(10)\n",
    "array10[0] = 0 #set the first element to 0\n",
    "array10[1] = 1 #set the second element to 1\n",
    "#set the remaining elements of array10 to the Fibonnaci sequence (each element is the sum of the two elements before it)\n",
    "for n in range(2, len(array10)):\n",
    "    #find the two elements before the current index\n",
    "    array10[n] = array10[n-1]+array10[n-2]\n",
    "\n",
    "print('original Fibonacci array: ', array10) #the last element is 34 :)\n",
    "\n",
    "#use mask to make separate arrays of even and odd Fibonacci numbers\n",
    "evenMask = array10%2 == 0\n",
    "print('even elements of Fibonacci sequence: ', array10[evenMask])\n",
    "oddMask = array10%2 ==1\n",
    "print('odd elements of the Fibonacci sequence: ', array10[oddMask])"
   ]
  },
  {
   "cell_type": "markdown",
   "metadata": {},
   "source": [
    "6.7. Create an array of 20 random numbers using `np.random.randn()`. Then use a mask to set all of the negative numbers in the array to zero and print the result."
   ]
  },
  {
   "cell_type": "code",
   "execution_count": 279,
   "metadata": {},
   "outputs": [
    {
     "name": "stdout",
     "output_type": "stream",
     "text": [
      "array before changing negative numbers to 0:\n",
      "[ 0.23580137 -0.29488455 -0.70016193 -0.01425626 -0.54084796 -0.1584059\n",
      "  1.48617913  1.38143747  0.54995129  1.40928965 -1.45186644 -0.3857199\n",
      " -0.27190858  0.68283041 -0.80767292  0.6091966   1.82175061 -0.31820268\n",
      "  0.81300016 -0.43046604]\n",
      "array after setting negative numbers to 0:\n",
      "[0.23580137 0.         0.         0.         0.         0.\n",
      " 1.48617913 1.38143747 0.54995129 1.40928965 0.         0.\n",
      " 0.         0.68283041 0.         0.6091966  1.82175061 0.\n",
      " 0.81300016 0.        ]\n"
     ]
    }
   ],
   "source": [
    "import numpy as np\n",
    "array20 = np.random.randn(20)\n",
    "print('array before changing negative numbers to 0:')\n",
    "print(array20)\n",
    "\n",
    "array20[array20<0] = 0\n",
    "print('array after setting negative numbers to 0:')\n",
    "print(array20)"
   ]
  },
  {
   "cell_type": "markdown",
   "metadata": {},
   "source": [
    "## Other operations on arrays"
   ]
  },
  {
   "cell_type": "markdown",
   "metadata": {},
   "source": [
    "Numpy has lots of built-in functions that are useful for using with arrays. Below are a few examples."
   ]
  },
  {
   "cell_type": "code",
   "execution_count": 243,
   "metadata": {},
   "outputs": [
    {
     "name": "stdout",
     "output_type": "stream",
     "text": [
      "Mean:  5.0\n",
      "Max:  9\n",
      "Min:  1\n",
      "Sum:  25\n"
     ]
    }
   ],
   "source": [
    "b15 = np.array([1, 3, 5, 7, 9])\n",
    "\n",
    "print('Mean: ', np.mean(b15))\n",
    "print('Max: ', np.max(b15))\n",
    "print('Min: ', np.min(b15))\n",
    "print('Sum: ', np.sum(b15))"
   ]
  },
  {
   "cell_type": "markdown",
   "metadata": {},
   "source": [
    "When applying operations like these to a multidimensional array, we might want to apply them separately in each row or column (i.e. along each \"axis\"). All of the built-in functions above can take a second argument that specifies which axis to perform the operation along."
   ]
  },
  {
   "cell_type": "code",
   "execution_count": 244,
   "metadata": {},
   "outputs": [
    {
     "name": "stdout",
     "output_type": "stream",
     "text": [
      "[[ 2  4  6]\n",
      " [ 8 10 12]]\n",
      "Mean of all elements:  7.0\n",
      "Mean over columns:  [5. 7. 9.]\n",
      "Mean over rows:  [ 4. 10.]\n"
     ]
    }
   ],
   "source": [
    "b12 = np.array([[2, 4, 6],\n",
    "              [8, 10, 12]])\n",
    "print(b12)\n",
    "print('Mean of all elements: ', np.mean(b12))\n",
    "print('Mean over columns: ', np.mean(b12, axis=0))\n",
    "print('Mean over rows: ', np.mean(b12, axis=1))"
   ]
  },
  {
   "cell_type": "markdown",
   "metadata": {},
   "source": [
    "If a function like `np.sin` or `np.cos` is applied to an array, it operates elementwise on each element. Let's illustrate this by taking a spin around the unit circle."
   ]
  },
  {
   "cell_type": "code",
   "execution_count": 245,
   "metadata": {},
   "outputs": [
    {
     "name": "stdout",
     "output_type": "stream",
     "text": [
      "[ 1.0000000e+00  6.1232340e-17 -1.0000000e+00 -1.8369702e-16]\n"
     ]
    }
   ],
   "source": [
    "theta_array = np.array([0, np.pi/2, np.pi, 3*np.pi/2])\n",
    "cos_theta = np.cos(theta_array)\n",
    "print(cos_theta)"
   ]
  },
  {
   "cell_type": "markdown",
   "metadata": {},
   "source": [
    "## Exercises\n",
    "\n",
    "6.8. Use `np.arange` and `np.sum` to add up all of the numbers from 1 to 100. Check that you get the same answer this way that you got using the for loop above."
   ]
  },
  {
   "cell_type": "code",
   "execution_count": 246,
   "metadata": {},
   "outputs": [
    {
     "name": "stdout",
     "output_type": "stream",
     "text": [
      "5050\n"
     ]
    }
   ],
   "source": [
    "#make an array containing the numbers from 1 to 100\n",
    "array100 = np.arange(1, 100+1)\n",
    "sumArray = np.sum(array100)\n",
    "print(sumArray) #this outputs 5050, which matches my for loop calculation :)"
   ]
  },
  {
   "cell_type": "markdown",
   "metadata": {},
   "source": [
    "6.9. Use `np.random.rand()` to create an array of 1000 random numbers uniformly distributed between 0 and 1. Compute the mean first using `np.mean()` and second by using `np.sum()` and dividing by the length of the array, showing that both give the same result. Is the resulting value close to the value that you would expect?"
   ]
  },
  {
   "cell_type": "code",
   "execution_count": 247,
   "metadata": {},
   "outputs": [
    {
     "name": "stdout",
     "output_type": "stream",
     "text": [
      "np.mean() calculates:  0.4953691651005796\n",
      "np.Sum() divided by len(randomArray) calculates:  0.4953691651005796\n"
     ]
    }
   ],
   "source": [
    "randomArray = np.random.rand(1000) #according to numpy,org, this already creates an array with a uniform distribution from [0, 1)\n",
    "#checking that the values range from about 0 to about 1:\n",
    "#print(np.min(randomArray))\n",
    "#print(np.max(randomArray))\n",
    "\n",
    "#compute the mean using np.mean()\n",
    "NPrandMean = np.mean(randomArray)\n",
    "print('np.mean() calculates: ',NPrandMean)\n",
    "\n",
    "#compute mean using np.sum()\n",
    "randMean = np.sum(randomArray)/len(randomArray)\n",
    "print('np.Sum() divided by len(randomArray) calculates: ', randMean)\n",
    "\n",
    "#these calculations yield ~0.49188, which is close 0.5. This matches my expectation of the random array's average value, given that there is\n",
    "#an equal likelihood of the random numer being between 0<n<0.5 and 0.5<n<1\n"
   ]
  },
  {
   "cell_type": "markdown",
   "metadata": {},
   "source": [
    "## Getting help"
   ]
  },
  {
   "cell_type": "markdown",
   "metadata": {},
   "source": [
    "If you would like to know more about a built-in Python function, just type its name followed by a question mark to view its documentation, which describes what the allowed inputs are, as well as what the function returns."
   ]
  },
  {
   "cell_type": "code",
   "execution_count": 280,
   "metadata": {},
   "outputs": [],
   "source": [
    "#np.mean?\n",
    "#This needs to be opened in a text editor - it exceeds Jupyter notebook's output size limit"
   ]
  },
  {
   "cell_type": "markdown",
   "metadata": {},
   "source": [
    "Try taking a look at the documentation of some other Numpy functions, such as `np.max`, `np.argmax`, or `np.sin`."
   ]
  },
  {
   "cell_type": "code",
   "execution_count": 249,
   "metadata": {},
   "outputs": [],
   "source": [
    "#np.max?\n",
    "#np.argmax?\n",
    "#np.sin?\n",
    "#This needs to be opened in a text editor - it exceeds Jupyter notebook's output size limit"
   ]
  },
  {
   "cell_type": "markdown",
   "metadata": {},
   "source": [
    "# 7. Plotting with Matplotlib"
   ]
  },
  {
   "cell_type": "markdown",
   "metadata": {},
   "source": [
    "Just as Python contains the library Numpy for numerical computation, it also contains a library called Matplotlib and a sublibrary called Pyplot for making plots to visualize data. We can import it as follows:"
   ]
  },
  {
   "cell_type": "code",
   "execution_count": 250,
   "metadata": {},
   "outputs": [],
   "source": [
    "import matplotlib.pyplot as plt"
   ]
  },
  {
   "cell_type": "markdown",
   "metadata": {},
   "source": [
    "There are no exercises in this section, but it's still a good idea to look through the examples carefully and experiment with making some changes to test your understanding."
   ]
  },
  {
   "cell_type": "markdown",
   "metadata": {},
   "source": [
    "## Plotting lines and points"
   ]
  },
  {
   "cell_type": "markdown",
   "metadata": {},
   "source": [
    "Let's start by plotting a line of evenly spaced x values and their corresponding y values."
   ]
  },
  {
   "cell_type": "code",
   "execution_count": 251,
   "metadata": {},
   "outputs": [
    {
     "data": {
      "text/plain": [
       "[<matplotlib.lines.Line2D at 0x116a6fa50>]"
      ]
     },
     "execution_count": 251,
     "metadata": {},
     "output_type": "execute_result"
    },
    {
     "data": {
      "image/png": "[encoded data removed]",
      "text/plain": [
       "<Figure size 640x480 with 1 Axes>"
      ]
     },
     "metadata": {},
     "output_type": "display_data"
    }
   ],
   "source": [
    "x = np.arange(0, 4*np.pi, 0.1)\n",
    "y = np.sin(x)\n",
    "plt.plot(x, y)"
   ]
  },
  {
   "cell_type": "markdown",
   "metadata": {},
   "source": [
    "Of course, it's always good practice to label our axes. Let's do this and also give the plot a title."
   ]
  },
  {
   "cell_type": "code",
   "execution_count": 252,
   "metadata": {},
   "outputs": [
    {
     "data": {
      "text/plain": [
       "Text(0.5, 1.0, 'A sine wave')"
      ]
     },
     "execution_count": 252,
     "metadata": {},
     "output_type": "execute_result"
    },
    {
     "data": {
      "image/png": "[encoded data removed]",
      "text/plain": [
       "<Figure size 640x480 with 1 Axes>"
      ]
     },
     "metadata": {},
     "output_type": "display_data"
    }
   ],
   "source": [
    "x = np.arange(0, 4*np.pi, 0.1)\n",
    "y = np.sin(x)\n",
    "plt.plot(x, y)\n",
    "plt.xlabel('x')\n",
    "plt.ylabel('y')\n",
    "plt.title('A sine wave')"
   ]
  },
  {
   "cell_type": "markdown",
   "metadata": {},
   "source": [
    "If we don't want all of the points to be connected with lines, we can include an extra argument in `plt.plot` that specifies what kind of point we want to be plotted."
   ]
  },
  {
   "cell_type": "code",
   "execution_count": 253,
   "metadata": {},
   "outputs": [
    {
     "data": {
      "text/plain": [
       "Text(0.5, 1.0, 'A sine wave')"
      ]
     },
     "execution_count": 253,
     "metadata": {},
     "output_type": "execute_result"
    },
    {
     "data": {
      "image/png": "[encoded data removed]",
      "text/plain": [
       "<Figure size 640x480 with 1 Axes>"
      ]
     },
     "metadata": {},
     "output_type": "display_data"
    }
   ],
   "source": [
    "x = np.arange(0, 4*np.pi, 0.1)\n",
    "y = np.sin(x)\n",
    "plt.plot(x, y, 'o')  # also try replacing 'o' by 's' or '.' or '--'\n",
    "plt.xlabel('x')\n",
    "plt.ylabel('y')\n",
    "plt.title('A sine wave')"
   ]
  },
  {
   "cell_type": "markdown",
   "metadata": {},
   "source": [
    "We can also plot two curves in the same figure."
   ]
  },
  {
   "cell_type": "code",
   "execution_count": 254,
   "metadata": {},
   "outputs": [
    {
     "data": {
      "text/plain": [
       "Text(0.5, 1.0, 'Sine and cosine')"
      ]
     },
     "execution_count": 254,
     "metadata": {},
     "output_type": "execute_result"
    },
    {
     "data": {
      "image/png": "[encoded data removed]",
      "text/plain": [
       "<Figure size 640x480 with 1 Axes>"
      ]
     },
     "metadata": {},
     "output_type": "display_data"
    }
   ],
   "source": [
    "x = np.arange(0, 4*np.pi, 0.1)\n",
    "y1 = np.sin(x)\n",
    "y2 = np.cos(x)\n",
    "plt.plot(x, y1)\n",
    "plt.plot(x, y2)\n",
    "plt.xlabel('x')\n",
    "plt.ylabel('y1, y2')\n",
    "plt.title('Sine and cosine')"
   ]
  },
  {
   "cell_type": "markdown",
   "metadata": {},
   "source": [
    "Each curve is automatically plotted in a different color, but we can customize colors and even add a legend if we want."
   ]
  },
  {
   "cell_type": "code",
   "execution_count": 255,
   "metadata": {},
   "outputs": [
    {
     "data": {
      "text/plain": [
       "<matplotlib.legend.Legend at 0x116c1eb50>"
      ]
     },
     "execution_count": 255,
     "metadata": {},
     "output_type": "execute_result"
    },
    {
     "data": {
      "image/png": "[encoded data removed]",
      "text/plain": [
       "<Figure size 640x480 with 1 Axes>"
      ]
     },
     "metadata": {},
     "output_type": "display_data"
    }
   ],
   "source": [
    "x = np.arange(0, 4*np.pi, 0.1)\n",
    "y1 = np.sin(x)\n",
    "y2 = np.cos(x)\n",
    "plt.plot(x, y1, color='r')\n",
    "plt.plot(x, y2, color='g')\n",
    "plt.xlabel('x')\n",
    "plt.ylabel('y1, y2')\n",
    "plt.title('Sine and cosine')\n",
    "plt.legend(['Sine', 'Cosine'])"
   ]
  },
  {
   "cell_type": "markdown",
   "metadata": {},
   "source": [
    "Matplotlib offers many, many ways to customize your plots. Take a look at lots and lots of examples here: https://matplotlib.org/2.0.2/gallery.html"
   ]
  },
  {
   "cell_type": "markdown",
   "metadata": {},
   "source": [
    "## Histograms"
   ]
  },
  {
   "cell_type": "markdown",
   "metadata": {},
   "source": [
    "A histogram allows us to see how data is distributed, with the height of each bar showing how many of the data points fall within each \"bin\". Let's generate an array of random numbers from a uniform distribution and check that we get about the same number of counts in each bin."
   ]
  },
  {
   "cell_type": "code",
   "execution_count": 256,
   "metadata": {},
   "outputs": [
    {
     "data": {
      "text/plain": [
       "Text(0, 0.5, 'count')"
      ]
     },
     "execution_count": 256,
     "metadata": {},
     "output_type": "execute_result"
    },
    {
     "data": {
      "image/png": "[encoded data removed]",
      "text/plain": [
       "<Figure size 640x480 with 1 Axes>"
      ]
     },
     "metadata": {},
     "output_type": "display_data"
    }
   ],
   "source": [
    "x = np.random.rand(10000)\n",
    "plt.hist(x)\n",
    "plt.xlabel('x')\n",
    "plt.ylabel('count')"
   ]
  },
  {
   "cell_type": "markdown",
   "metadata": {},
   "source": [
    "## Visualizing matrices"
   ]
  },
  {
   "cell_type": "markdown",
   "metadata": {},
   "source": [
    "A common way to visualize two-dimensional data is as a color-coded matrix, also known as a heat map. This can be done using `plt.imshow`."
   ]
  },
  {
   "cell_type": "code",
   "execution_count": 257,
   "metadata": {},
   "outputs": [
    {
     "data": {
      "text/plain": [
       "<matplotlib.colorbar.Colorbar at 0x116c704d0>"
      ]
     },
     "execution_count": 257,
     "metadata": {},
     "output_type": "execute_result"
    },
    {
     "data": {
      "image/png": "[encoded data removed]",
      "text/plain": [
       "<Figure size 640x480 with 2 Axes>"
      ]
     },
     "metadata": {},
     "output_type": "display_data"
    }
   ],
   "source": [
    "x = np.random.rand(20, 20)\n",
    "plt.imshow(x)\n",
    "plt.colorbar()  # This creates the color bar on the right hand side so we know what the colors mean"
   ]
  },
  {
   "cell_type": "markdown",
   "metadata": {},
   "source": [
    "## Subplots"
   ]
  },
  {
   "cell_type": "markdown",
   "metadata": {},
   "source": [
    "We can make subplots within the same plot. In the following examples, we'll illustrate two different distributions of random numbers in two different subplots. We'll also increase the number of bins in the histogram plots to show the distributions in more detail."
   ]
  },
  {
   "cell_type": "code",
   "execution_count": 258,
   "metadata": {},
   "outputs": [
    {
     "data": {
      "text/plain": [
       "Text(0.5, 0, 'x')"
      ]
     },
     "execution_count": 258,
     "metadata": {},
     "output_type": "execute_result"
    },
    {
     "data": {
      "image/png": "[encoded data removed]",
      "text/plain": [
       "<Figure size 640x480 with 2 Axes>"
      ]
     },
     "metadata": {},
     "output_type": "display_data"
    }
   ],
   "source": [
    "# Generate some random data:\n",
    "x1 = np.random.rand(10000)\n",
    "x2 = np.random.randn(10000)\n",
    "\n",
    "# The first subplot:\n",
    "plt.subplot(121) # the three numbers refer to the number of rows, number of columns, and which subplot we're making\n",
    "plt.hist(x1, bins=30)\n",
    "plt.title('Uniform')\n",
    "plt.xlabel('x')\n",
    "plt.ylabel('Count')\n",
    "\n",
    "# The second subplot:\n",
    "plt.subplot(122)\n",
    "plt.hist(x2, bins=30)\n",
    "plt.title('Normal')\n",
    "plt.xlabel('x')\n",
    "\n",
    "# Pro tip: The following line makes everything fit together more nicely. \n",
    "# Try uncommenting it and compare the difference:\n",
    "# plt.tight_layout()"
   ]
  },
  {
   "cell_type": "markdown",
   "metadata": {},
   "source": [
    "## Error bars"
   ]
  },
  {
   "cell_type": "markdown",
   "metadata": {},
   "source": [
    "When we are working with actual data, we will often want to average it (e.g. averaging over trials in a neuroscience experiment) and include error bars to illustrate how spread out the data is. Let's create some fake data in which the underlying signal is a sine wave, and each trial has noise added to it. Then we'll plot the trial-averaged data together with error bars used to denote the standard deviation. This example will also include some of what we've learned about using for loops and performing operations over arrays."
   ]
  },
  {
   "cell_type": "code",
   "execution_count": 259,
   "metadata": {},
   "outputs": [
    {
     "data": {
      "text/plain": [
       "Text(0, 0.5, 'y')"
      ]
     },
     "execution_count": 259,
     "metadata": {},
     "output_type": "execute_result"
    },
    {
     "data": {
      "image/png": "[encoded data removed]",
      "text/plain": [
       "<Figure size 640x480 with 1 Axes>"
      ]
     },
     "metadata": {},
     "output_type": "display_data"
    }
   ],
   "source": [
    "# Generate some fake data:\n",
    "t = np.arange(0, 2*np.pi, 0.2)\n",
    "signal = np.sin(t)\n",
    "n_timesteps = len(t)\n",
    "n_trials = 20\n",
    "y = np.zeros((n_trials, n_timesteps))\n",
    "\n",
    "# Add noise to the signal:\n",
    "for i in range(n_trials):\n",
    "    y[i,:] = signal + 0.2*np.random.randn(n_timesteps)\n",
    "\n",
    "# Compute the mean and standard deviation over trials:\n",
    "y_mean = np.mean(y, axis=0)\n",
    "y_std = np.std(y, axis=0)\n",
    "\n",
    "# Make the plot:\n",
    "plt.errorbar(t, y_mean, yerr=y_std, fmt='o')\n",
    "plt.xlabel('t')\n",
    "plt.ylabel('y')"
   ]
  }
 ],
 "metadata": {
  "kernelspec": {
   "display_name": "Python 3",
   "language": "python",
   "name": "python3"
  },
  "language_info": {
   "codemirror_mode": {
    "name": "ipython",
    "version": 3
   },
   "file_extension": ".py",
   "mimetype": "text/x-python",
   "name": "python",
   "nbconvert_exporter": "python",
   "pygments_lexer": "ipython3",
   "version": "3.11.2"
  }
 },
 "nbformat": 4,
 "nbformat_minor": 4
}
